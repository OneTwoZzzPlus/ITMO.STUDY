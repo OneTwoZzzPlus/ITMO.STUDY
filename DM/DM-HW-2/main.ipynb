{
 "cells": [
  {
   "cell_type": "code",
   "execution_count": 1,
   "metadata": {},
   "outputs": [],
   "source": [
    "from graph import Graph\n",
    "\n",
    "import time\n",
    "import random\n",
    "import matplotlib.pyplot as plt"
   ]
  },
  {
   "cell_type": "markdown",
   "metadata": {},
   "source": [
    "Алгоритмы Форда-Фалкерсона и Эдмондса–Карпа"
   ]
  },
  {
   "cell_type": "code",
   "execution_count": 2,
   "metadata": {},
   "outputs": [
    {
     "name": "stdout",
     "output_type": "stream",
     "text": [
      "Алгоритм Форда-Фалкерсона\n",
      "Максимальный поток: 23\n",
      "Алгоритм Эдмондса–Карпа\n",
      "Максимальный поток : 23\n"
     ]
    }
   ],
   "source": [
    "# Таблица смежности графа\n",
    "table = [\n",
    "    [0, 18, 13, 0,  7, 0],\n",
    "    [0, 0,  10, 12, 0, 0],\n",
    "    [0, 0,  0,  0,  19, 0],\n",
    "    [0, 4,  9,  0,  0, 20],\n",
    "    [0, 0,  8,  7,  0, 4],\n",
    "    [0, 0,  0,  0,  0, 0]\n",
    "]\n",
    "# Создаём граф (debug=True - рисование решения)\n",
    "graph = Graph(table, debug=False)\n",
    "# graph.draw()\n",
    "\n",
    "print(\"Алгоритм Форда-Фалкерсона\")\n",
    "print(\"Максимальный поток:\", graph.FordFulkerson(0, 5))\n",
    "print(\"Алгоритм Эдмондса–Карпа\")\n",
    "print(\"Максимальный поток :\", graph.EdmondsKarp(0, 5))"
   ]
  },
  {
   "cell_type": "markdown",
   "metadata": {},
   "source": [
    "График времени выполнения алгоритмов на случайных данных\n",
    "\n",
    "- Количество вершин берётся так:\n",
    "vertices\n",
    "\n",
    "- Количество повторений (для усреднения)\n",
    "repeats"
   ]
  },
  {
   "cell_type": "code",
   "execution_count": 6,
   "metadata": {},
   "outputs": [
    {
     "name": "stdout",
     "output_type": "stream",
     "text": [
      "33.33%"
     ]
    },
    {
     "ename": "KeyboardInterrupt",
     "evalue": "",
     "output_type": "error",
     "traceback": [
      "\u001b[1;31m---------------------------------------------------------------------------\u001b[0m",
      "\u001b[1;31mKeyboardInterrupt\u001b[0m                         Traceback (most recent call last)",
      "Cell \u001b[1;32mIn[6], line 29\u001b[0m\n\u001b[0;32m     26\u001b[0m time_result_FF \u001b[38;5;241m+\u001b[39m\u001b[38;5;241m=\u001b[39m time_finish_FF \u001b[38;5;241m-\u001b[39m time_start_FF\n\u001b[0;32m     28\u001b[0m time_start_EK \u001b[38;5;241m=\u001b[39m time\u001b[38;5;241m.\u001b[39mtime()\n\u001b[1;32m---> 29\u001b[0m \u001b[43mg\u001b[49m\u001b[38;5;241;43m.\u001b[39;49m\u001b[43mEdmondsKarp\u001b[49m\u001b[43m(\u001b[49m\u001b[38;5;241;43m0\u001b[39;49m\u001b[43m,\u001b[49m\u001b[43m \u001b[49m\u001b[43msize\u001b[49m\u001b[43m \u001b[49m\u001b[38;5;241;43m-\u001b[39;49m\u001b[43m \u001b[49m\u001b[38;5;241;43m1\u001b[39;49m\u001b[43m)\u001b[49m\n\u001b[0;32m     30\u001b[0m time_finish_EK \u001b[38;5;241m=\u001b[39m time\u001b[38;5;241m.\u001b[39mtime()\n\u001b[0;32m     31\u001b[0m time_result_EK \u001b[38;5;241m+\u001b[39m\u001b[38;5;241m=\u001b[39m time_finish_EK \u001b[38;5;241m-\u001b[39m time_start_EK\n",
      "File \u001b[1;32md:\\ITMO.STUDY\\DM\\DM-HW-2\\graph.py:174\u001b[0m, in \u001b[0;36mGraph.EdmondsKarp\u001b[1;34m(self, start, finish)\u001b[0m\n\u001b[0;32m    173\u001b[0m \u001b[38;5;28;01mdef\u001b[39;00m \u001b[38;5;21mEdmondsKarp\u001b[39m(\u001b[38;5;28mself\u001b[39m, start, finish):\n\u001b[1;32m--> 174\u001b[0m     \u001b[38;5;28;01mreturn\u001b[39;00m \u001b[38;5;28;43mself\u001b[39;49m\u001b[38;5;241;43m.\u001b[39;49m\u001b[43mMaxFlow\u001b[49m\u001b[43m(\u001b[49m\u001b[43mstart\u001b[49m\u001b[43m,\u001b[49m\u001b[43m \u001b[49m\u001b[43mfinish\u001b[49m\u001b[43m,\u001b[49m\u001b[43m \u001b[49m\u001b[38;5;28;43mself\u001b[39;49m\u001b[38;5;241;43m.\u001b[39;49m\u001b[43mBFS\u001b[49m\u001b[43m)\u001b[49m\n",
      "File \u001b[1;32md:\\ITMO.STUDY\\DM\\DM-HW-2\\graph.py:145\u001b[0m, in \u001b[0;36mGraph.MaxFlow\u001b[1;34m(self, start, finish, path_exist)\u001b[0m\n\u001b[0;32m    143\u001b[0m max_flow \u001b[38;5;241m=\u001b[39m \u001b[38;5;241m0\u001b[39m\n\u001b[0;32m    144\u001b[0m \u001b[38;5;66;03m# Пока существует путь\u001b[39;00m\n\u001b[1;32m--> 145\u001b[0m \u001b[38;5;28;01mwhile\u001b[39;00m \u001b[43mpath_exist\u001b[49m\u001b[43m(\u001b[49m\u001b[43mstart\u001b[49m\u001b[43m,\u001b[49m\u001b[43m \u001b[49m\u001b[43mfinish\u001b[49m\u001b[43m,\u001b[49m\u001b[43m \u001b[49m\u001b[43mparent\u001b[49m\u001b[43m)\u001b[49m:\n\u001b[0;32m    146\u001b[0m     \u001b[38;5;66;03m# Берём самый маленькое по весу ребро на пути\u001b[39;00m\n\u001b[0;32m    147\u001b[0m     path_flow \u001b[38;5;241m=\u001b[39m \u001b[38;5;28mfloat\u001b[39m(\u001b[38;5;124m\"\u001b[39m\u001b[38;5;124mInf\u001b[39m\u001b[38;5;124m\"\u001b[39m)\n\u001b[0;32m    148\u001b[0m     s \u001b[38;5;241m=\u001b[39m finish\n",
      "File \u001b[1;32md:\\ITMO.STUDY\\DM\\DM-HW-2\\graph.py:116\u001b[0m, in \u001b[0;36mGraph.BFS\u001b[1;34m(self, start, finish, parent)\u001b[0m\n\u001b[0;32m    114\u001b[0m \u001b[38;5;66;03m# Проходим по всем не посещённым соседям\u001b[39;00m\n\u001b[0;32m    115\u001b[0m \u001b[38;5;28;01mfor\u001b[39;00m node, weight \u001b[38;5;129;01min\u001b[39;00m \u001b[38;5;28menumerate\u001b[39m(\u001b[38;5;28mself\u001b[39m\u001b[38;5;241m.\u001b[39mgraph[current]):\n\u001b[1;32m--> 116\u001b[0m     \u001b[38;5;28;01mif\u001b[39;00m \u001b[38;5;129;01mnot\u001b[39;00m visited[node] \u001b[38;5;129;01mand\u001b[39;00m weight \u001b[38;5;241m>\u001b[39m \u001b[38;5;241m0\u001b[39m:\n\u001b[0;32m    117\u001b[0m         \u001b[38;5;66;03m# Добавляем соседа в очередь и посещённые\u001b[39;00m\n\u001b[0;32m    118\u001b[0m         queue\u001b[38;5;241m.\u001b[39mappend(node)\n\u001b[0;32m    119\u001b[0m         visited[node] \u001b[38;5;241m=\u001b[39m \u001b[38;5;28;01mTrue\u001b[39;00m\n",
      "\u001b[1;31mKeyboardInterrupt\u001b[0m: "
     ]
    }
   ],
   "source": [
    "vertices = [1, 1000, 2000]\n",
    "repeats = 1\n",
    "\n",
    "# Генератор таблиц смежности\n",
    "def generate(size: int):\n",
    "    return [[random.randint(1, 10) for _ in range(size)] for _ in range(size)]\n",
    "\n",
    "# Отображение процесса подсчёта\n",
    "step_work = len(vertices) / 100\n",
    "step_percent = 1 / step_work\n",
    "work, percent = step_work, step_percent\n",
    "\n",
    "time_data_FF = []\n",
    "time_data_EK = []\n",
    "for size in vertices:\n",
    "    time_result_FF = 0\n",
    "    time_result_EK = 0\n",
    "    \n",
    "    # repeats раз производим рассчёты\n",
    "    for _ in range(repeats):\n",
    "        g = Graph(generate(size))\n",
    "        \n",
    "        time_start_FF = time.time()\n",
    "        g.FordFulkerson(0, size - 1)\n",
    "        time_finish_FF = time.time()\n",
    "        time_result_FF += time_finish_FF - time_start_FF\n",
    "        \n",
    "        time_start_EK = time.time()\n",
    "        g.EdmondsKarp(0, size - 1)\n",
    "        time_finish_EK = time.time()\n",
    "        time_result_EK += time_finish_EK - time_start_EK\n",
    "        \n",
    "    time_data_FF.append(time_result_FF / repeats)\n",
    "    time_data_EK.append(time_result_EK / repeats)\n",
    "    \n",
    "    # Отображение процесса подсчёта\n",
    "    if size > work:\n",
    "        print('\\r\\r\\r\\r\\r\\r\\r', round(percent, 2), '%', sep='', end='')\n",
    "        work += step_work\n",
    "        percent += step_percent\n",
    "    \n",
    "    \n",
    "# vertices = list(vertices)\n",
    " \n",
    "# Создаем один общий график\n",
    "fig, ax = plt.subplots(figsize=(10, 6))\n",
    "\n",
    "# Создаем массивы для хранения значений x и y\n",
    "x_values = []\n",
    "FF_values = []\n",
    "EK_values = []\n",
    "\n",
    "# Проходим по всем значениям вершин\n",
    "for i in range(len(vertices)):\n",
    "    # Добавляем значение вершины в x_values\n",
    "    x_values.append(i)\n",
    "    \n",
    "    # Добавляем соответствующие значения времени в FF_values и EK_values\n",
    "    FF_values.append(time_data_FF[i])\n",
    "    EK_values.append(time_data_EK[i])\n",
    "\n",
    "# Создаем график\n",
    "ax.plot(x_values, FF_values, color='red', label='Алгоритм Форда-Фалкерсона')\n",
    "ax.plot(x_values, EK_values, color='blue', linestyle='--', label='Алгоритм Эдмондса–Карпа')\n",
    "\n",
    "# Добавляем легенду и заголовки\n",
    "ax.legend()\n",
    "ax.set_xlabel('Количество вершин')\n",
    "ax.set_ylabel('Время работы')\n",
    "ax.set_title('Сравнение времени работы алгоритмов')\n",
    "\n",
    "# Отображаем график\n",
    "plt.tight_layout()\n",
    "plt.show()\n",
    "\n",
    "# Создаем два отдельных графика\n",
    "fig, (ax1, ax2) = plt.subplots(1, 2, figsize=(15, 6))\n",
    "\n",
    "# График для алгоритм Форда-Фалкерсона\n",
    "ax1.plot(vertices, time_data_FF, label='Алгоритм Форда-Фалкерсона')\n",
    "ax1.set_xlabel('Количество вершин')\n",
    "ax1.set_ylabel('Время работы')\n",
    "ax1.set_title('Алгоритм Форда-Фалкерсона')\n",
    "ax1.legend()\n",
    "\n",
    "# График для алгоритма Эдмондса–Карпа\n",
    "ax2.plot(vertices, time_data_EK, label='Алгоритм Эдмондса–Карпа')\n",
    "ax2.set_xlabel('Количество вершин')\n",
    "ax2.set_ylabel('Время работы')\n",
    "ax2.set_title('Алгоритм Эдмондса–Карпа')\n",
    "ax2.legend()\n",
    "\n",
    "# Отображаем графики\n",
    "plt.tight_layout()\n",
    "plt.show()"
   ]
  }
 ],
 "metadata": {
  "kernelspec": {
   "display_name": "Python 3",
   "language": "python",
   "name": "python3"
  },
  "language_info": {
   "codemirror_mode": {
    "name": "ipython",
    "version": 3
   },
   "file_extension": ".py",
   "mimetype": "text/x-python",
   "name": "python",
   "nbconvert_exporter": "python",
   "pygments_lexer": "ipython3",
   "version": "3.12.4"
  }
 },
 "nbformat": 4,
 "nbformat_minor": 2
}
